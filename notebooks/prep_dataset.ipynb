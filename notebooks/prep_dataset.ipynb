{
 "cells": [
  {
   "metadata": {
    "ExecuteTime": {
     "end_time": "2024-05-21T14:09:56.032450Z",
     "start_time": "2024-05-21T14:09:56.025321Z"
    }
   },
   "cell_type": "code",
   "source": "import pandas as pd",
   "id": "fa26815d3691cb8e",
   "outputs": [],
   "execution_count": 1
  },
  {
   "cell_type": "code",
   "id": "initial_id",
   "metadata": {
    "collapsed": true,
    "ExecuteTime": {
     "end_time": "2024-05-21T14:10:47.579008Z",
     "start_time": "2024-05-21T14:09:56.078202Z"
    }
   },
   "source": [
    "df = pd.read_csv(\"../data/lenta-ru-news.csv\")\n",
    "\n",
    "df = df.dropna(axis=0, how='any')\n",
    "correct = df[\"topic\"].value_counts() > 200\n",
    "df = df[df[\"topic\"].isin(correct[correct].index)]\n",
    "\n",
    "topic = df.topic.drop_duplicates().values\n",
    "category = dict()\n",
    "for i in range(len(topic)):\n",
    "    category[topic[i]] = i \n",
    "    \n",
    "for i in topic:\n",
    "    index2remove = df.loc[(df.topic == i) & (len(df[df.topic == i]) >= 10000)].index[:len(df[df.topic == i]) - 10000]\n",
    "    df = df.drop(index2remove)\n",
    "    df.reset_index()\n",
    "    \n",
    "df['topic_num'] = df['topic'].map(lambda x: category[x])\n",
    "\n",
    "df.to_csv(\"../data/lenta-ru-news_cleaned.csv\", index=False)"
   ],
   "outputs": [
    {
     "name": "stderr",
     "output_type": "stream",
     "text": [
      "/tmp/ipykernel_17216/2027261012.py:1: DtypeWarning: Columns (3) have mixed types. Specify dtype option on import or set low_memory=False.\n",
      "  df = pd.read_csv(\"../data/lenta-ru-news.csv\")\n"
     ]
    }
   ],
   "execution_count": 2
  },
  {
   "metadata": {
    "ExecuteTime": {
     "end_time": "2024-05-21T14:10:50.164068Z",
     "start_time": "2024-05-21T14:10:47.582288Z"
    }
   },
   "cell_type": "code",
   "source": [
    "for i in topic:\n",
    "    index2remove = df.loc[(df.topic == i) & (len(df[df.topic == i]) >= 2000)].index[:len(df[df.topic == i]) - 2000]\n",
    "    df = df.drop(index2remove)\n",
    "    df.reset_index()\n",
    "\n",
    "df.to_csv(\"../data/lenta-ru-news_cleaned_small.csv\", index=False)"
   ],
   "id": "67716f44ed4312bd",
   "outputs": [],
   "execution_count": 3
  },
  {
   "metadata": {
    "ExecuteTime": {
     "end_time": "2024-05-21T14:10:50.169721Z",
     "start_time": "2024-05-21T14:10:50.166261Z"
    }
   },
   "cell_type": "code",
   "source": "",
   "id": "13873585ed1700c7",
   "outputs": [],
   "execution_count": 3
  }
 ],
 "metadata": {
  "kernelspec": {
   "display_name": "my-enviroment",
   "language": "python",
   "name": "my-enviroment"
  },
  "language_info": {
   "codemirror_mode": {
    "name": "ipython",
    "version": 2
   },
   "file_extension": ".py",
   "mimetype": "text/x-python",
   "name": "python",
   "nbconvert_exporter": "python",
   "pygments_lexer": "ipython2",
   "version": "2.7.6"
  }
 },
 "nbformat": 4,
 "nbformat_minor": 5
}
